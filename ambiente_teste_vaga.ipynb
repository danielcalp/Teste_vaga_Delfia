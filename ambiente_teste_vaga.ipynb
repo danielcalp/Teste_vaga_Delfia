{
 "cells": [
  {
   "cell_type": "code",
   "execution_count": 33,
   "metadata": {},
   "outputs": [],
   "source": [
    "import csv\n",
    "import json\n",
    "import pandas as pd\n",
    "\n",
    "# Função para acessar e formatar os dados do arquivo CSV\n",
    "def acessar_formatar_csv(caminho_arquivo):\n",
    "    dados_formatados = []\n",
    "\n",
    "    with open(caminho_arquivo, 'r', encoding='utf-8') as arquivo_csv:\n",
    "        # Cria um objeto leitor de dicionário CSV com ponto e vírgula como delimitador\n",
    "        leitor_csv = csv.DictReader(arquivo_csv, delimiter=';')\n",
    "\n",
    "        # Itera sobre as linhas do arquivo CSV\n",
    "        for linha in leitor_csv:\n",
    "            # Remove o caractere (\\ufeff) dos cabeçalhos, se presente\n",
    "            linha_corrigida = {chave.replace('\\ufeff', ''): valor for chave, valor in linha.items()}\n",
    "            # Adiciona cada linha como um dicionário à lista\n",
    "            dados_formatados.append(linha_corrigida)\n",
    "\n",
    "    return dados_formatados\n",
    "\n",
    "# Caminho do arquivo CSV\n",
    "caminho_arquivo_csv = 'transacoes.csv'\n",
    "\n",
    "# Obtém e formata os dados do arquivo CSV\n",
    "dados_csv_formatados = acessar_formatar_csv(caminho_arquivo_csv)\n",
    "\n",
    "# Lista para armazenar transações com valores altos\n",
    "transacoes_altas = []\n",
    "\n",
    "# Itera sobre as linhas formatadas do CSV\n",
    "for linha_csv in dados_csv_formatados:\n",
    "    nome_cliente = linha_csv['Nome do Cliente']\n",
    "    valor_transacao = linha_csv['Valor da Transação']\n",
    "    data_transacao = linha_csv['Data da Transação']\n",
    "\n",
    "    # Verifica se o valor da transação é maior que 1000\n",
    "    if int(valor_transacao) > 1000:\n",
    "        transacoes_altas.append(linha_csv)\n",
    "\n",
    "# Cria um DataFrame do pandas com as transações altas\n",
    "df_transacoes_altas = pd.DataFrame(transacoes_altas)\n",
    "\n",
    "# Salva as transações altas em um novo arquivo CSV\n",
    "df_transacoes_altas.to_csv('transacoes_altas.csv', index=False, encoding='utf-8-sig', sep=';')\n"
   ]
  },
  {
   "cell_type": "code",
   "execution_count": 99,
   "metadata": {},
   "outputs": [],
   "source": []
  }
 ],
 "metadata": {
  "kernelspec": {
   "display_name": "Python 3",
   "language": "python",
   "name": "python3"
  },
  "language_info": {
   "codemirror_mode": {
    "name": "ipython",
    "version": 3
   },
   "file_extension": ".py",
   "mimetype": "text/x-python",
   "name": "python",
   "nbconvert_exporter": "python",
   "pygments_lexer": "ipython3",
   "version": "3.11.3"
  }
 },
 "nbformat": 4,
 "nbformat_minor": 2
}
