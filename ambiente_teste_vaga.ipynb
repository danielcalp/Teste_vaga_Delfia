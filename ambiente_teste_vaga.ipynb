{
 "cells": [
  {
   "cell_type": "code",
   "execution_count": 15,
   "metadata": {},
   "outputs": [
    {
     "name": "stdout",
     "output_type": "stream",
     "text": [
      "  Nome do Cliente  Valor da Transação Data da Transação Status\n",
      "0       Cliente A                1200        15/01/2023   Alta\n",
      "2       Cliente C                1500        10/03/2023   Alta\n",
      "Transações altas salvas em 'transacoes_altas.csv'.\n"
     ]
    }
   ],
   "source": [
    "import pandas as pd\n",
    "import configparser\n",
    "\n",
    "def acessar_formatar_csv(arquivo_csv_origem):\n",
    "    try:\n",
    "        # Lê o arquivo CSV diretamente como um DataFrame do Pandas\n",
    "        df = pd.read_csv(arquivo_csv_origem, delimiter=';')\n",
    "        return df\n",
    "    except FileNotFoundError:\n",
    "        print(f\"Erro: Arquivo '{arquivo_csv_origem}' não encontrado.\")\n",
    "        return None\n",
    "    except pd.errors.EmptyDataError:\n",
    "        print(f\"Erro: Arquivo '{arquivo_csv_origem}' vazio ou formato inválido.\")\n",
    "        return None\n",
    "\n",
    "def marcar_transacoes_altas(valor_minimo, valor_coluna):\n",
    "    return 'Alta' if valor_coluna > valor_minimo else 'Normal'\n",
    "\n",
    "def main():\n",
    "    # Leitura de parâmetros do arquivo config.cfg\n",
    "    config = configparser.ConfigParser()\n",
    "    config.read('config.cfg')\n",
    "\n",
    "    arquivo_csv_origem = config.get('Valores', 'arquivo_csv_origem')\n",
    "    df = acessar_formatar_csv(arquivo_csv_origem)\n",
    "\n",
    "    valor_minimo_transacao = config.getint('Valores', 'limite_transacao')\n",
    "    if df is not None:\n",
    "        # Adiciona uma coluna 'Status' indicando se a transação é alta ou não\n",
    "        \n",
    "        df['Status'] = [marcar_transacoes_altas(valor_minimo_transacao, valor)\n",
    "                        for valor in df['Valor da Transação']]\n",
    "        \n",
    "        transacoes_altas = df[df['Status'] == 'Alta']\n",
    "\n",
    "        arquivo_csv_destino = config.get('Valores', 'arquivo_csv_destino')\n",
    "        transacoes_altas.to_csv(arquivo_csv_destino, index=False, encoding='utf-8-sig', sep=';')\n",
    "        print(\"Transações altas salvas em 'transacoes_altas.csv'.\")\n",
    "\n",
    "if __name__ == \"__main__\":\n",
    "    main()"
   ]
  },
  {
   "cell_type": "code",
   "execution_count": 99,
   "metadata": {},
   "outputs": [],
   "source": []
  }
 ],
 "metadata": {
  "kernelspec": {
   "display_name": "Python 3",
   "language": "python",
   "name": "python3"
  },
  "language_info": {
   "codemirror_mode": {
    "name": "ipython",
    "version": 3
   },
   "file_extension": ".py",
   "mimetype": "text/x-python",
   "name": "python",
   "nbconvert_exporter": "python",
   "pygments_lexer": "ipython3",
   "version": "3.11.3"
  }
 },
 "nbformat": 4,
 "nbformat_minor": 2
}
